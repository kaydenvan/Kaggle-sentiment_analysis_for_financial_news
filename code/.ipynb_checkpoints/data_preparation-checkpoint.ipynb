{
 "cells": [
  {
   "cell_type": "markdown",
   "id": "fb7bd65d",
   "metadata": {},
   "source": [
    "### Load library"
   ]
  },
  {
   "cell_type": "code",
   "execution_count": 1,
   "id": "31ecca50",
   "metadata": {},
   "outputs": [],
   "source": [
    "import os\n",
    "import pandas as pd\n",
    "from sklearn.model_selection import train_test_split"
   ]
  },
  {
   "cell_type": "markdown",
   "id": "8133bfee",
   "metadata": {},
   "source": [
    "### Load data and split "
   ]
  },
  {
   "cell_type": "code",
   "execution_count": 2,
   "id": "a9393d5d",
   "metadata": {},
   "outputs": [],
   "source": [
    "df = pd.read_csv('../local/all-data.csv', names=['Sentiment', 'Description'])"
   ]
  },
  {
   "cell_type": "code",
   "execution_count": 3,
   "id": "72811475",
   "metadata": {},
   "outputs": [],
   "source": [
    "train, test = train_test_split(df, train_size=.8)"
   ]
  },
  {
   "cell_type": "code",
   "execution_count": 4,
   "id": "5db45fe3",
   "metadata": {},
   "outputs": [],
   "source": [
    "train.to_csv('../local/train.csv', index=False, header=True)"
   ]
  },
  {
   "cell_type": "code",
   "execution_count": 5,
   "id": "724d5149",
   "metadata": {},
   "outputs": [],
   "source": [
    "test.to_csv('../local/test.csv', index=False, header=True)"
   ]
  },
  {
   "cell_type": "code",
   "execution_count": null,
   "id": "b7738553",
   "metadata": {},
   "outputs": [],
   "source": []
  }
 ],
 "metadata": {
  "kernelspec": {
   "display_name": "Python 3",
   "language": "python",
   "name": "python3"
  },
  "language_info": {
   "codemirror_mode": {
    "name": "ipython",
    "version": 3
   },
   "file_extension": ".py",
   "mimetype": "text/x-python",
   "name": "python",
   "nbconvert_exporter": "python",
   "pygments_lexer": "ipython3",
   "version": "3.8.8"
  }
 },
 "nbformat": 4,
 "nbformat_minor": 5
}

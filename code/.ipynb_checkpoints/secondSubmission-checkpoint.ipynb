{
 "cells": [
  {
   "cell_type": "code",
   "execution_count": 1,
   "id": "394d377c",
   "metadata": {},
   "outputs": [],
   "source": [
    "# import libraries\n",
    "import os\n",
    "import yaml\n",
    "import warnings\n",
    "import pandas as pd\n",
    "import numpy as np\n",
    "import seaborn as sns\n",
    "import matplotlib.pyplot as plt\n",
    "from tqdm.notebook import tqdm\n",
    "\n",
    "tqdm.pandas()\n",
    "cwd = os.getcwd()\n",
    "warnings.filterwarnings('ignore')"
   ]
  },
  {
   "cell_type": "code",
   "execution_count": 2,
   "id": "3789de63",
   "metadata": {},
   "outputs": [],
   "source": [
    "# load data\n",
    "data_location = '../local'\n",
    "train_file_name = 'train.csv'\n",
    "test_file_name = 'test.csv'"
   ]
  },
  {
   "cell_type": "code",
   "execution_count": 3,
   "id": "43b31cc7",
   "metadata": {},
   "outputs": [],
   "source": [
    "df_train = pd.read_csv(os.path.join(data_location, train_file_name))\n",
    "df_test = pd.read_csv(os.path.join(data_location, test_file_name))"
   ]
  },
  {
   "cell_type": "code",
   "execution_count": 4,
   "id": "9f789d71",
   "metadata": {},
   "outputs": [
    {
     "data": {
      "text/html": [
       "<div>\n",
       "<style scoped>\n",
       "    .dataframe tbody tr th:only-of-type {\n",
       "        vertical-align: middle;\n",
       "    }\n",
       "\n",
       "    .dataframe tbody tr th {\n",
       "        vertical-align: top;\n",
       "    }\n",
       "\n",
       "    .dataframe thead th {\n",
       "        text-align: right;\n",
       "    }\n",
       "</style>\n",
       "<table border=\"1\" class=\"dataframe\">\n",
       "  <thead>\n",
       "    <tr style=\"text-align: right;\">\n",
       "      <th></th>\n",
       "      <th>Sentiment</th>\n",
       "      <th>Description</th>\n",
       "    </tr>\n",
       "  </thead>\n",
       "  <tbody>\n",
       "    <tr>\n",
       "      <th>0</th>\n",
       "      <td>neutral</td>\n",
       "      <td>- The Group -� s sales during the period were ...</td>\n",
       "    </tr>\n",
       "    <tr>\n",
       "      <th>1</th>\n",
       "      <td>neutral</td>\n",
       "      <td>The medium-term operative targets of the compa...</td>\n",
       "    </tr>\n",
       "    <tr>\n",
       "      <th>2</th>\n",
       "      <td>positive</td>\n",
       "      <td>In addition , Lehdentekijat Oy will start prod...</td>\n",
       "    </tr>\n",
       "    <tr>\n",
       "      <th>3</th>\n",
       "      <td>neutral</td>\n",
       "      <td>Aspo 's Group structure and business operation...</td>\n",
       "    </tr>\n",
       "    <tr>\n",
       "      <th>4</th>\n",
       "      <td>neutral</td>\n",
       "      <td>Finnish component supplier Componenta Corporat...</td>\n",
       "    </tr>\n",
       "  </tbody>\n",
       "</table>\n",
       "</div>"
      ],
      "text/plain": [
       "  Sentiment                                        Description\n",
       "0   neutral  - The Group -� s sales during the period were ...\n",
       "1   neutral  The medium-term operative targets of the compa...\n",
       "2  positive  In addition , Lehdentekijat Oy will start prod...\n",
       "3   neutral  Aspo 's Group structure and business operation...\n",
       "4   neutral  Finnish component supplier Componenta Corporat..."
      ]
     },
     "execution_count": 4,
     "metadata": {},
     "output_type": "execute_result"
    }
   ],
   "source": [
    "df_train.head()"
   ]
  },
  {
   "cell_type": "markdown",
   "id": "20246f27",
   "metadata": {},
   "source": [
    "### Visualization"
   ]
  },
  {
   "cell_type": "code",
   "execution_count": 5,
   "id": "4ed0bfc8",
   "metadata": {},
   "outputs": [
    {
     "data": {
      "image/png": "[encoded data removed]",
      "text/plain": [
       "<Figure size 432x288 with 1 Axes>"
      ]
     },
     "metadata": {
      "needs_background": "light"
     },
     "output_type": "display_data"
    }
   ],
   "source": [
    "sns.countplot(df_train['Sentiment'])\n",
    "plt.show()"
   ]
  },
  {
   "cell_type": "code",
   "execution_count": 6,
   "id": "68ddf5f3",
   "metadata": {},
   "outputs": [
    {
     "data": {
      "image/png": "[encoded data removed]",
      "text/plain": [
       "<Figure size 432x288 with 1 Axes>"
      ]
     },
     "metadata": {},
     "output_type": "display_data"
    }
   ],
   "source": [
    "df_train.groupby(['Sentiment']).count()\\\n",
    ".reset_index(drop=True)\\\n",
    ".plot.pie(y='Description', autopct='%.2f%%', title='Pie Chart')\n",
    "plt.show()"
   ]
  },
  {
   "cell_type": "markdown",
   "id": "449287e2",
   "metadata": {},
   "source": [
    "### Preprocessing"
   ]
  },
  {
   "cell_type": "code",
   "execution_count": 7,
   "id": "805cc816",
   "metadata": {},
   "outputs": [],
   "source": [
    "import tensorflow as tf\n",
    "from tensorflow.keras.preprocessing.text import Tokenizer\n",
    "from tensorflow.keras.preprocessing.sequence import pad_sequences\n",
    "from sklearn.preprocessing import LabelEncoder\n",
    "with open('../local/configuration.yaml') as f:\n",
    "    lib_dir = yaml.load(f, yaml.BaseLoader).get('library_directory')\n",
    "os.chdir(lib_dir)\n",
    "import func_nlp as func\n",
    "os.chdir(cwd)"
   ]
  },
  {
   "cell_type": "code",
   "execution_count": 8,
   "id": "0cf0975e",
   "metadata": {},
   "outputs": [],
   "source": [
    "tf.random.set_seed(0)\n",
    "maxlen = 50"
   ]
  },
  {
   "cell_type": "code",
   "execution_count": 9,
   "id": "53bebae6",
   "metadata": {},
   "outputs": [
    {
     "data": {
      "application/vnd.jupyter.widget-view+json": {
       "model_id": "1af81dc1de6f4fe387d1519b8020f196",
       "version_major": 2,
       "version_minor": 0
      },
      "text/plain": [
       "  0%|          | 0/3876 [00:00<?, ?it/s]"
      ]
     },
     "metadata": {},
     "output_type": "display_data"
    },
    {
     "data": {
      "application/vnd.jupyter.widget-view+json": {
       "model_id": "f18529ff239b4409b4dbd6d1d8fe5e2f",
       "version_major": 2,
       "version_minor": 0
      },
      "text/plain": [
       "  0%|          | 0/970 [00:00<?, ?it/s]"
      ]
     },
     "metadata": {},
     "output_type": "display_data"
    }
   ],
   "source": [
    "df_train['Description'] = df_train['Description'].progress_apply(lambda x: func.clean_text(x, correct_word=False, special_character=True))\n",
    "df_test['Description'] = df_test['Description'].progress_apply(lambda x: func.clean_text(x, correct_word=False, special_character=True))"
   ]
  },
  {
   "cell_type": "code",
   "execution_count": 10,
   "id": "b4a9c6e1",
   "metadata": {},
   "outputs": [],
   "source": [
    "label = LabelEncoder()\n",
    "df_train['Sentiment'] = label.fit_transform(df_train['Sentiment'])\n",
    "df_test['Sentiment'] = label.fit_transform(df_test['Sentiment'])"
   ]
  },
  {
   "cell_type": "code",
   "execution_count": 11,
   "id": "507963ea",
   "metadata": {},
   "outputs": [
    {
     "name": "stdout",
     "output_type": "stream",
     "text": [
      "Number of unique word: 9871\n"
     ]
    }
   ],
   "source": [
    "tokenizer = Tokenizer(num_words = 10000, oov_token=\"<OOV>\")\n",
    "tokenizer.fit_on_texts(df_train['Description'])\n",
    "word_index = tokenizer.word_index\n",
    "x_train = tokenizer.texts_to_sequences(df_train['Description'])\n",
    "x_test = tokenizer.texts_to_sequences(df_test['Description'])\n",
    "print('Number of unique word: {}'.format(len(word_index)-1))"
   ]
  },
  {
   "cell_type": "code",
   "execution_count": 12,
   "id": "12162a34",
   "metadata": {},
   "outputs": [],
   "source": [
    "x_train = pad_sequences(x_train, maxlen=maxlen, padding='post', truncating='post')\n",
    "x_test = pad_sequences(x_test, maxlen=maxlen, padding='post', truncating='post')"
   ]
  },
  {
   "cell_type": "code",
   "execution_count": 13,
   "id": "e8b30db2",
   "metadata": {},
   "outputs": [],
   "source": [
    "y_train = pd.get_dummies(df_train['Sentiment'])"
   ]
  },
  {
   "cell_type": "markdown",
   "id": "156a9139",
   "metadata": {},
   "source": [
    "### Model development"
   ]
  },
  {
   "cell_type": "code",
   "execution_count": 14,
   "id": "87c7c688",
   "metadata": {},
   "outputs": [],
   "source": [
    "from tensorflow.keras.models import Sequential\n",
    "from tensorflow.keras.layers import Input, Embedding, Bidirectional, GRU, Flatten, Dense, BatchNormalization, Dropout\n",
    "from sklearn.utils import class_weight"
   ]
  },
  {
   "cell_type": "code",
   "execution_count": 15,
   "id": "7d47c8a1",
   "metadata": {},
   "outputs": [],
   "source": [
    "tf.random.set_seed(0)"
   ]
  },
  {
   "cell_type": "code",
   "execution_count": 16,
   "id": "ded776d6",
   "metadata": {},
   "outputs": [],
   "source": [
    "# bias\n",
    "# this bias is the bias from first training based on bias = 'zero'\n",
    "initial_bias = 'zero' # first run\n",
    "initial_bias = tf.keras.initializers.Constant([-0.04932734,  0.0385231 ,  0.02171226])"
   ]
  },
  {
   "cell_type": "code",
   "execution_count": 17,
   "id": "c9c8026e",
   "metadata": {},
   "outputs": [],
   "source": [
    "# model detail\n",
    "model = Sequential(name = 'nlp_financial_news_analysis')\n",
    "model.add(Input(shape = (maxlen, ), name = 'input_layer'))\n",
    "model.add(Embedding(input_dim = len(word_index) + 1,\n",
    "                    output_dim = 16,\n",
    "                    input_length = maxlen,\n",
    "                    mask_zero = True))\n",
    "model.add(Bidirectional(GRU(128)))\n",
    "model.add(Flatten())\n",
    "model.add(Dropout(.2))\n",
    "model.add(Dense(64, activation='relu'))\n",
    "model.add(BatchNormalization())\n",
    "model.add(Dense(3, name='output_layer', activation='softmax',\n",
    "                bias_initializer=initial_bias))"
   ]
  },
  {
   "cell_type": "code",
   "execution_count": 18,
   "id": "22407e18",
   "metadata": {},
   "outputs": [],
   "source": [
    "# model configuration\n",
    "epochs = 15\n",
    "batch_size = 48\n",
    "verbose = 1\n",
    "patience = 2\n",
    "lr_rate = 1e-3\n",
    "decay_steps = 100\n",
    "decay_rate = .5"
   ]
  },
  {
   "cell_type": "code",
   "execution_count": 19,
   "id": "b833bd94",
   "metadata": {},
   "outputs": [],
   "source": [
    "# reference: https://datascience.stackexchange.com/questions/13490/how-to-set-class-weights-for-imbalanced-classes-in-keras\n",
    "weight1 = (1/2278) * (2278+1107+491)/3\n",
    "weight2 = (1/1107) * (2278+1107+491)/3\n",
    "weight0 = (1/491) * (2278+1107+491)/3\n",
    "# class_weight_ = {0:weight0, 1:weight1, 2:weight2}\n",
    "class_weight_ = class_weight.compute_class_weight('balanced', np.unique(df_train['Sentiment']), df_train['Sentiment'])\n",
    "class_weight_ = {key: value for key, value in zip(np.unique(df_train['Sentiment']), class_weight_)}"
   ]
  },
  {
   "cell_type": "code",
   "execution_count": 20,
   "id": "6e4f1379",
   "metadata": {},
   "outputs": [],
   "source": [
    "# call back\n",
    "monitor_prc = tf.keras.callbacks.EarlyStopping(monitor='val_prc', \n",
    "                                               patience=patience,\n",
    "                                               mode='max',\n",
    "                                               restore_best_weights=True)\n",
    "lr_schedule = tf.keras.optimizers.schedules.ExponentialDecay(lr_rate,\n",
    "                                               decay_steps=decay_steps,\n",
    "                                               decay_rate=decay_rate,\n",
    "                                               staircase=False)"
   ]
  },
  {
   "cell_type": "code",
   "execution_count": 21,
   "id": "23a83d6f",
   "metadata": {},
   "outputs": [],
   "source": [
    "# optimizer\n",
    "optimizer = tf.keras.optimizers.Adam(lr_schedule)\n",
    "optimizer = tf.train.experimental.enable_mixed_precision_graph_rewrite(optimizer)"
   ]
  },
  {
   "cell_type": "code",
   "execution_count": 22,
   "id": "6fef6d22",
   "metadata": {},
   "outputs": [],
   "source": [
    "# metrics\n",
    "metrics = [\n",
    "    tf.keras.metrics.TruePositives(name='tp'),\n",
    "    tf.keras.metrics.FalsePositives(name='fp'),\n",
    "    tf.keras.metrics.TrueNegatives(name='tn'),\n",
    "    tf.keras.metrics.FalseNegatives(name='fn'),\n",
    "    tf.keras.metrics.CategoricalAccuracy(name='acc'),\n",
    "    tf.keras.metrics.Precision(name='precision'),\n",
    "    tf.keras.metrics.Recall(name='recall'),\n",
    "    tf.keras.metrics.AUC(name='auc'),\n",
    "    tf.keras.metrics.AUC(name='prc', curve='PR') # precision-recall curve\n",
    "]"
   ]
  },
  {
   "cell_type": "code",
   "execution_count": 23,
   "id": "2ebc598a",
   "metadata": {},
   "outputs": [],
   "source": [
    "# get best model from the training\n",
    "checkpoint_filepath = os.path.join(os.getcwd(), 'checkpoints/checkpoint2')\n",
    "model_checkpoint_callback = tf.keras.callbacks.ModelCheckpoint(\n",
    "    filepath=checkpoint_filepath,\n",
    "    save_weights_only=True,\n",
    "    monitor='val_prc',\n",
    "    mode='max',\n",
    "    save_best_only=True)"
   ]
  },
  {
   "cell_type": "code",
   "execution_count": 24,
   "id": "8c785408",
   "metadata": {},
   "outputs": [],
   "source": [
    "model.compile(loss = 'categorical_crossentropy',\n",
    "              optimizer = optimizer,\n",
    "              metrics = metrics)"
   ]
  },
  {
   "cell_type": "code",
   "execution_count": 25,
   "id": "64208261",
   "metadata": {},
   "outputs": [
    {
     "name": "stdout",
     "output_type": "stream",
     "text": [
      "Epoch 1/15\n",
      "65/65 [==============================] - 6s 97ms/step - loss: 1.0555 - tp: 343.0000 - fp: 352.0000 - tn: 5848.0000 - fn: 2757.0000 - acc: 0.4281 - precision: 0.4935 - recall: 0.1106 - auc: 0.6091 - prc: 0.4247 - val_loss: 1.0832 - val_tp: 0.0000e+00 - val_fp: 0.0000e+00 - val_tn: 1552.0000 - val_fn: 776.0000 - val_acc: 0.2899 - val_precision: 0.0000e+00 - val_recall: 0.0000e+00 - val_auc: 0.6282 - val_prc: 0.3965\n",
      "Epoch 2/15\n",
      "65/65 [==============================] - 3s 44ms/step - loss: 0.7341 - tp: 1519.0000 - fp: 564.0000 - tn: 5636.0000 - fn: 1581.0000 - acc: 0.6535 - precision: 0.7292 - recall: 0.4900 - auc: 0.8197 - prc: 0.6974 - val_loss: 1.0084 - val_tp: 1.0000 - val_fp: 0.0000e+00 - val_tn: 1552.0000 - val_fn: 775.0000 - val_acc: 0.4356 - val_precision: 1.0000 - val_recall: 0.0013 - val_auc: 0.7030 - val_prc: 0.4919\n",
      "Epoch 3/15\n",
      "65/65 [==============================] - 3s 42ms/step - loss: 0.3902 - tp: 2452.0000 - fp: 400.0000 - tn: 5800.0000 - fn: 648.0000 - acc: 0.8332 - precision: 0.8597 - recall: 0.7910 - auc: 0.9416 - prc: 0.8987 - val_loss: 0.9081 - val_tp: 55.0000 - val_fp: 5.0000 - val_tn: 1547.0000 - val_fn: 721.0000 - val_acc: 0.6637 - val_precision: 0.9167 - val_recall: 0.0709 - val_auc: 0.8399 - val_prc: 0.7321\n",
      "Epoch 4/15\n",
      "65/65 [==============================] - 3s 44ms/step - loss: 0.2256 - tp: 2768.0000 - fp: 238.0000 - tn: 5962.0000 - fn: 332.0000 - acc: 0.9094 - precision: 0.9208 - recall: 0.8929 - auc: 0.9790 - prc: 0.9635 - val_loss: 0.8133 - val_tp: 358.0000 - val_fp: 70.0000 - val_tn: 1482.0000 - val_fn: 418.0000 - val_acc: 0.7204 - val_precision: 0.8364 - val_recall: 0.4613 - val_auc: 0.8782 - val_prc: 0.7863\n",
      "Epoch 5/15\n",
      "65/65 [==============================] - 3s 42ms/step - loss: 0.1482 - tp: 2900.0000 - fp: 149.0000 - tn: 6051.0000 - fn: 200.0000 - acc: 0.9445 - precision: 0.9511 - recall: 0.9355 - auc: 0.9905 - prc: 0.9835 - val_loss: 0.7516 - val_tp: 432.0000 - val_fp: 96.0000 - val_tn: 1456.0000 - val_fn: 344.0000 - val_acc: 0.7216 - val_precision: 0.8182 - val_recall: 0.5567 - val_auc: 0.8863 - val_prc: 0.8009\n",
      "Epoch 6/15\n",
      "65/65 [==============================] - 3s 44ms/step - loss: 0.1146 - tp: 2965.0000 - fp: 101.0000 - tn: 6099.0000 - fn: 135.0000 - acc: 0.9619 - precision: 0.9671 - recall: 0.9565 - auc: 0.9939 - prc: 0.9896 - val_loss: 0.7022 - val_tp: 476.0000 - val_fp: 122.0000 - val_tn: 1430.0000 - val_fn: 300.0000 - val_acc: 0.7294 - val_precision: 0.7960 - val_recall: 0.6134 - val_auc: 0.8899 - val_prc: 0.8024\n",
      "Epoch 7/15\n",
      "65/65 [==============================] - 3s 42ms/step - loss: 0.0963 - tp: 2997.0000 - fp: 71.0000 - tn: 6129.0000 - fn: 103.0000 - acc: 0.9706 - precision: 0.9769 - recall: 0.9668 - auc: 0.9956 - prc: 0.9925 - val_loss: 0.6748 - val_tp: 507.0000 - val_fp: 152.0000 - val_tn: 1400.0000 - val_fn: 269.0000 - val_acc: 0.7178 - val_precision: 0.7693 - val_recall: 0.6534 - val_auc: 0.8840 - val_prc: 0.7950\n",
      "Epoch 8/15\n",
      "65/65 [==============================] - 3s 40ms/step - loss: 0.0882 - tp: 3012.0000 - fp: 66.0000 - tn: 6134.0000 - fn: 88.0000 - acc: 0.9758 - precision: 0.9786 - recall: 0.9716 - auc: 0.9959 - prc: 0.9935 - val_loss: 0.6768 - val_tp: 518.0000 - val_fp: 173.0000 - val_tn: 1379.0000 - val_fn: 258.0000 - val_acc: 0.7126 - val_precision: 0.7496 - val_recall: 0.6675 - val_auc: 0.8758 - val_prc: 0.7840\n"
     ]
    }
   ],
   "source": [
    "history = model.fit(x_train, \n",
    "                    y_train,\n",
    "                    batch_size=batch_size,\n",
    "                    epochs=epochs,\n",
    "                    verbose=verbose,\n",
    "                    validation_split=.2,\n",
    "                    class_weight=class_weight_,\n",
    "                    callbacks = [monitor_prc, model_checkpoint_callback])"
   ]
  },
  {
   "cell_type": "code",
   "execution_count": 26,
   "id": "05603d13",
   "metadata": {},
   "outputs": [
    {
     "data": {
      "text/plain": [
       "<tf.Variable 'output_layer/bias:0' shape=(3,) dtype=float32, numpy=array([-0.09253564,  0.07431589,  0.03969919], dtype=float32)>"
      ]
     },
     "execution_count": 26,
     "metadata": {},
     "output_type": "execute_result"
    }
   ],
   "source": [
    "### Set correct initial bias\n",
    "### reference: https://medium.com/@ilyarudyak/initial-bias-for-imbalanced-data-1c7b2b2ea28e\n",
    "### reference: https://stackoverflow.com/questions/60307239/setting-bias-for-multiclass-classification-python-tensorflow-keras\n",
    "model.get_layer('output_layer').weights[1]"
   ]
  },
  {
   "cell_type": "markdown",
   "id": "7ab5d84d",
   "metadata": {},
   "source": [
    "### Visualization"
   ]
  },
  {
   "cell_type": "code",
   "execution_count": 27,
   "id": "52329eda",
   "metadata": {},
   "outputs": [],
   "source": [
    "colors = plt.rcParams['axes.prop_cycle'].by_key()['color']\n",
    "def plot_metrics(history, metrics = ['loss', 'prc', 'precision', 'recall', 'acc', ]):\n",
    "    plt.figure(figsize=(12,6))\n",
    "    for n, metric in enumerate(metrics):\n",
    "        name = metric.replace(\"_\",\" \").capitalize()\n",
    "        plt.subplot(2,3,n+1)\n",
    "        plt.plot(history.epoch, history.history[metric], color=colors[0], label='Train')\n",
    "        plt.plot(history.epoch, history.history['val_'+metric],\n",
    "                 color=colors[0], linestyle=\"--\", label='Val')\n",
    "        plt.title(metric)\n",
    "        plt.xlabel('Epoch')\n",
    "        plt.ylabel(name)\n",
    "        if metric == 'loss':\n",
    "            plt.ylim([0, plt.ylim()[1]])\n",
    "        elif metric == 'auc':\n",
    "            plt.ylim([0.8,1])\n",
    "        else:\n",
    "            plt.ylim([0,1])\n",
    "        plt.legend()\n",
    "        \n",
    "    plt.show()"
   ]
  },
  {
   "cell_type": "code",
   "execution_count": 28,
   "id": "b9e59d5a",
   "metadata": {},
   "outputs": [
    {
     "data": {
      "image/png": "[encoded data removed]",
      "text/plain": [
       "<Figure size 864x432 with 5 Axes>"
      ]
     },
     "metadata": {
      "needs_background": "light"
     },
     "output_type": "display_data"
    }
   ],
   "source": [
    "hist = pd.DataFrame(history.history)\n",
    "hist['epochs'] = history.epoch\n",
    "plot_metrics(history)"
   ]
  },
  {
   "cell_type": "code",
   "execution_count": 29,
   "id": "61cf6cac",
   "metadata": {},
   "outputs": [],
   "source": [
    "# store trained model\n",
    "filename = 'secondSubmission.h5'\n",
    "model.save(filename)"
   ]
  },
  {
   "cell_type": "code",
   "execution_count": 30,
   "id": "0e72716b",
   "metadata": {},
   "outputs": [],
   "source": [
    "# load library\n",
    "from sklearn.metrics import confusion_matrix, classification_report\n",
    "from tensorflow.keras.utils import plot_model"
   ]
  },
  {
   "cell_type": "code",
   "execution_count": 31,
   "id": "0b0ae18d",
   "metadata": {},
   "outputs": [],
   "source": [
    "model.load_weights(checkpoint_filepath)\n",
    "df_test['y_pred'] = np.argmax(model.predict(x_test), axis=1)"
   ]
  },
  {
   "cell_type": "code",
   "execution_count": 32,
   "id": "63ce80f7",
   "metadata": {
    "scrolled": true
   },
   "outputs": [
    {
     "data": {
      "image/png": "[encoded data removed]",
      "text/plain": [
       "<IPython.core.display.Image object>"
      ]
     },
     "execution_count": 32,
     "metadata": {},
     "output_type": "execute_result"
    }
   ],
   "source": [
    "plot_model(model, show_shapes=True)"
   ]
  },
  {
   "cell_type": "code",
   "execution_count": 33,
   "id": "805be5fd",
   "metadata": {},
   "outputs": [
    {
     "data": {
      "text/plain": [
       "array([[ 44,  39,  30],\n",
       "       [ 13, 494,  94],\n",
       "       [  9,  95, 152]], dtype=int64)"
      ]
     },
     "execution_count": 33,
     "metadata": {},
     "output_type": "execute_result"
    }
   ],
   "source": [
    "confusion_matrix(df_test['Sentiment'], df_test['y_pred'])"
   ]
  },
  {
   "cell_type": "code",
   "execution_count": 34,
   "id": "da1fa3c3",
   "metadata": {
    "scrolled": false
   },
   "outputs": [
    {
     "name": "stdout",
     "output_type": "stream",
     "text": [
      "              precision    recall  f1-score   support\n",
      "\n",
      "           0       0.67      0.39      0.49       113\n",
      "           1       0.79      0.82      0.80       601\n",
      "           2       0.55      0.59      0.57       256\n",
      "\n",
      "    accuracy                           0.71       970\n",
      "   macro avg       0.67      0.60      0.62       970\n",
      "weighted avg       0.71      0.71      0.71       970\n",
      "\n"
     ]
    }
   ],
   "source": [
    "print(classification_report(df_test['Sentiment'], df_test['y_pred']))"
   ]
  },
  {
   "cell_type": "raw",
   "id": "0ed09d67",
   "metadata": {},
   "source": [
    "bias = zero\n",
    "              precision    recall  f1-score   support\n",
    "\n",
    "           0       0.67      0.40      0.50       113\n",
    "           1       0.79      0.82      0.81       601\n",
    "           2       0.56      0.61      0.58       256\n",
    "\n",
    "    accuracy                           0.72       970\n",
    "   macro avg       0.67      0.61      0.63       970\n",
    "weighted avg       0.72      0.72      0.71       970"
   ]
  },
  {
   "cell_type": "raw",
   "id": "3f8dd851",
   "metadata": {},
   "source": [
    "bias = [-0.04932734,  0.0385231 ,  0.02171226]\n",
    "              precision    recall  f1-score   support\n",
    "\n",
    "           0       0.67      0.39      0.49       113\n",
    "           1       0.79      0.82      0.80       601\n",
    "           2       0.55      0.59      0.57       256\n",
    "\n",
    "    accuracy                           0.71       970\n",
    "   macro avg       0.67      0.60      0.62       970\n",
    "weighted avg       0.71      0.71      0.71       970"
   ]
  },
  {
   "cell_type": "raw",
   "id": "19ff3abd",
   "metadata": {},
   "source": [
    "kernel_initializer='normal'\n",
    "              precision    recall  f1-score   support\n",
    "\n",
    "           0       0.73      0.35      0.48       113\n",
    "           1       0.78      0.77      0.78       601\n",
    "           2       0.50      0.64      0.56       256\n",
    "\n",
    "    accuracy                           0.68       970\n",
    "   macro avg       0.67      0.59      0.60       970\n",
    "weighted avg       0.70      0.68      0.68       970"
   ]
  },
  {
   "cell_type": "raw",
   "id": "dd9f6fcb",
   "metadata": {},
   "source": [
    "kernel_initializer='he_normal'\n",
    "              precision    recall  f1-score   support\n",
    "\n",
    "           0       0.78      0.34      0.47       113\n",
    "           1       0.80      0.76      0.78       601\n",
    "           2       0.50      0.70      0.58       256\n",
    "\n",
    "    accuracy                           0.69       970\n",
    "   macro avg       0.69      0.60      0.61       970\n",
    "weighted avg       0.72      0.69      0.69       970"
   ]
  },
  {
   "cell_type": "raw",
   "id": "d2cc6c71",
   "metadata": {},
   "source": [
    "kernel_initializer='he_uniform'\n",
    "              precision    recall  f1-score   support\n",
    "\n",
    "           0       0.69      0.39      0.50       113\n",
    "           1       0.79      0.81      0.80       601\n",
    "           2       0.54      0.60      0.57       256\n",
    "\n",
    "    accuracy                           0.71       970\n",
    "   macro avg       0.67      0.60      0.62       970\n",
    "weighted avg       0.71      0.71      0.70       970"
   ]
  },
  {
   "cell_type": "markdown",
   "id": "b6201628",
   "metadata": {},
   "source": [
    "Summary: Although changed bias could improve the performance on the training dataset, it reduces the performance on the testing data, meaning overfit. Hence, zero bias could remain at such case. "
   ]
  },
  {
   "cell_type": "code",
   "execution_count": 35,
   "id": "9ef87753",
   "metadata": {},
   "outputs": [],
   "source": [
    "df_test.to_csv('../submission/secondSubmission.csv', index=False, header=True)"
   ]
  }
 ],
 "metadata": {
  "kernelspec": {
   "display_name": "Python 3",
   "language": "python",
   "name": "python3"
  },
  "language_info": {
   "codemirror_mode": {
    "name": "ipython",
    "version": 3
   },
   "file_extension": ".py",
   "mimetype": "text/x-python",
   "name": "python",
   "nbconvert_exporter": "python",
   "pygments_lexer": "ipython3",
   "version": "3.8.8"
  }
 },
 "nbformat": 4,
 "nbformat_minor": 5
}

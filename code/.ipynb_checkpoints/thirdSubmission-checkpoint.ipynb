{
 "cells": [
  {
   "cell_type": "markdown",
   "id": "3a573c21",
   "metadata": {},
   "source": [
    "Special credits: https://github.com/jamescalam/transformers/blob/main/course/project_build_tf_sentiment_model/sentiment.ipynb"
   ]
  },
  {
   "cell_type": "code",
   "execution_count": 1,
   "id": "394d377c",
   "metadata": {},
   "outputs": [],
   "source": [
    "# import libraries\n",
    "import os\n",
    "import yaml\n",
    "import warnings\n",
    "import pandas as pd\n",
    "import numpy as np\n",
    "import seaborn as sns\n",
    "import matplotlib.pyplot as plt\n",
    "from tqdm.notebook import tqdm\n",
    "\n",
    "tqdm.pandas()\n",
    "cwd = os.getcwd()\n",
    "warnings.filterwarnings('ignore')"
   ]
  },
  {
   "cell_type": "code",
   "execution_count": 2,
   "id": "3789de63",
   "metadata": {},
   "outputs": [],
   "source": [
    "# load data\n",
    "data_location = '../local'\n",
    "train_file_name = 'train.csv'\n",
    "test_file_name = 'test.csv'"
   ]
  },
  {
   "cell_type": "code",
   "execution_count": 3,
   "id": "43b31cc7",
   "metadata": {},
   "outputs": [],
   "source": [
    "df_train = pd.read_csv(os.path.join(data_location, train_file_name))\n",
    "df_test = pd.read_csv(os.path.join(data_location, test_file_name))"
   ]
  },
  {
   "cell_type": "code",
   "execution_count": 4,
   "id": "9f789d71",
   "metadata": {},
   "outputs": [
    {
     "data": {
      "text/html": [
       "<div>\n",
       "<style scoped>\n",
       "    .dataframe tbody tr th:only-of-type {\n",
       "        vertical-align: middle;\n",
       "    }\n",
       "\n",
       "    .dataframe tbody tr th {\n",
       "        vertical-align: top;\n",
       "    }\n",
       "\n",
       "    .dataframe thead th {\n",
       "        text-align: right;\n",
       "    }\n",
       "</style>\n",
       "<table border=\"1\" class=\"dataframe\">\n",
       "  <thead>\n",
       "    <tr style=\"text-align: right;\">\n",
       "      <th></th>\n",
       "      <th>Sentiment</th>\n",
       "      <th>Description</th>\n",
       "    </tr>\n",
       "  </thead>\n",
       "  <tbody>\n",
       "    <tr>\n",
       "      <th>0</th>\n",
       "      <td>neutral</td>\n",
       "      <td>- The Group -� s sales during the period were ...</td>\n",
       "    </tr>\n",
       "    <tr>\n",
       "      <th>1</th>\n",
       "      <td>neutral</td>\n",
       "      <td>The medium-term operative targets of the compa...</td>\n",
       "    </tr>\n",
       "    <tr>\n",
       "      <th>2</th>\n",
       "      <td>positive</td>\n",
       "      <td>In addition , Lehdentekijat Oy will start prod...</td>\n",
       "    </tr>\n",
       "    <tr>\n",
       "      <th>3</th>\n",
       "      <td>neutral</td>\n",
       "      <td>Aspo 's Group structure and business operation...</td>\n",
       "    </tr>\n",
       "    <tr>\n",
       "      <th>4</th>\n",
       "      <td>neutral</td>\n",
       "      <td>Finnish component supplier Componenta Corporat...</td>\n",
       "    </tr>\n",
       "  </tbody>\n",
       "</table>\n",
       "</div>"
      ],
      "text/plain": [
       "  Sentiment                                        Description\n",
       "0   neutral  - The Group -� s sales during the period were ...\n",
       "1   neutral  The medium-term operative targets of the compa...\n",
       "2  positive  In addition , Lehdentekijat Oy will start prod...\n",
       "3   neutral  Aspo 's Group structure and business operation...\n",
       "4   neutral  Finnish component supplier Componenta Corporat..."
      ]
     },
     "execution_count": 4,
     "metadata": {},
     "output_type": "execute_result"
    }
   ],
   "source": [
    "df_train.head()"
   ]
  },
  {
   "cell_type": "markdown",
   "id": "20246f27",
   "metadata": {},
   "source": [
    "### Visualization"
   ]
  },
  {
   "cell_type": "code",
   "execution_count": 5,
   "id": "4ed0bfc8",
   "metadata": {},
   "outputs": [
    {
     "data": {
      "image/png": "[encoded data removed]",
      "text/plain": [
       "<Figure size 432x288 with 1 Axes>"
      ]
     },
     "metadata": {
      "needs_background": "light"
     },
     "output_type": "display_data"
    }
   ],
   "source": [
    "sns.countplot(df_train['Sentiment'])\n",
    "plt.show()"
   ]
  },
  {
   "cell_type": "code",
   "execution_count": 6,
   "id": "68ddf5f3",
   "metadata": {},
   "outputs": [
    {
     "data": {
      "image/png": "[encoded data removed]",
      "text/plain": [
       "<Figure size 432x288 with 1 Axes>"
      ]
     },
     "metadata": {},
     "output_type": "display_data"
    }
   ],
   "source": [
    "df_train.groupby(['Sentiment']).count()\\\n",
    ".reset_index(drop=True)\\\n",
    ".plot.pie(y='Description', autopct='%.2f%%', title='Pie Chart')\n",
    "plt.show()"
   ]
  },
  {
   "cell_type": "markdown",
   "id": "449287e2",
   "metadata": {},
   "source": [
    "### Preprocessing"
   ]
  },
  {
   "cell_type": "code",
   "execution_count": 7,
   "id": "805cc816",
   "metadata": {},
   "outputs": [],
   "source": [
    "import tensorflow as tf\n",
    "from sklearn.preprocessing import LabelEncoder\n",
    "from transformers import BertTokenizer\n",
    "from sklearn.utils import class_weight"
   ]
  },
  {
   "cell_type": "code",
   "execution_count": 8,
   "id": "e390cb2e",
   "metadata": {},
   "outputs": [
    {
     "name": "stdout",
     "output_type": "stream",
     "text": [
      "Num GPUs Available:  1\n"
     ]
    }
   ],
   "source": [
    "# check GPU available\n",
    "print(\"Num GPUs Available: \", len(tf.config.list_physical_devices('GPU')))\n",
    "tf.debugging.set_log_device_placement(False)"
   ]
  },
  {
   "cell_type": "code",
   "execution_count": 9,
   "id": "0cf0975e",
   "metadata": {},
   "outputs": [],
   "source": [
    "tf.random.set_seed(0)\n",
    "maxlen = 50\n",
    "batch_size = 24"
   ]
  },
  {
   "cell_type": "code",
   "execution_count": 10,
   "id": "b4a9c6e1",
   "metadata": {},
   "outputs": [],
   "source": [
    "label = LabelEncoder()\n",
    "df_train['Sentiment'] = label.fit_transform(df_train['Sentiment'])\n",
    "df_test['Sentiment'] = label.fit_transform(df_test['Sentiment'])"
   ]
  },
  {
   "cell_type": "code",
   "execution_count": 11,
   "id": "e95f3ccd",
   "metadata": {},
   "outputs": [],
   "source": [
    "class_weight_ = class_weight.compute_class_weight('balanced', classes=np.unique(df_train['Sentiment']), y=df_train['Sentiment'])\n",
    "class_weight_ = {key: value for key, value in zip(np.unique(df_train['Sentiment']), class_weight_)}"
   ]
  },
  {
   "cell_type": "code",
   "execution_count": 12,
   "id": "1fb321e9",
   "metadata": {},
   "outputs": [],
   "source": [
    "tokenizer = BertTokenizer.from_pretrained('bert-base-cased')\n",
    "tokens = tokenizer(df_train['Description'].tolist(),\n",
    "                  max_length=maxlen,\n",
    "                  truncation=True,\n",
    "                  padding='max_length',\n",
    "                  add_special_tokens=True,\n",
    "                  return_tensors='np')"
   ]
  },
  {
   "cell_type": "code",
   "execution_count": 13,
   "id": "48684f06",
   "metadata": {
    "scrolled": true
   },
   "outputs": [
    {
     "data": {
      "text/plain": [
       "dict_keys(['input_ids', 'token_type_ids', 'attention_mask'])"
      ]
     },
     "execution_count": 13,
     "metadata": {},
     "output_type": "execute_result"
    }
   ],
   "source": [
    "tokens.keys()"
   ]
  },
  {
   "cell_type": "code",
   "execution_count": 14,
   "id": "b4f35284",
   "metadata": {},
   "outputs": [],
   "source": [
    "y_train = np.array(pd.get_dummies(df_train['Sentiment']).values.tolist())"
   ]
  },
  {
   "cell_type": "code",
   "execution_count": 15,
   "id": "b37a8660",
   "metadata": {},
   "outputs": [],
   "source": [
    "tf_data = tf.data.Dataset.from_tensor_slices(\n",
    "    (tokens.get('input_ids'),\n",
    "     tokens.get('attention_mask'),\n",
    "     y_train)\n",
    ")"
   ]
  },
  {
   "cell_type": "code",
   "execution_count": 16,
   "id": "32d2317f",
   "metadata": {},
   "outputs": [
    {
     "data": {
      "text/plain": [
       "(3876, 3)"
      ]
     },
     "execution_count": 16,
     "metadata": {},
     "output_type": "execute_result"
    }
   ],
   "source": [
    "y_train.shape"
   ]
  },
  {
   "cell_type": "code",
   "execution_count": 17,
   "id": "9b83256e",
   "metadata": {},
   "outputs": [],
   "source": [
    "def map_func(input_ids, masks, labels):\n",
    "    return {'input_ids': input_ids, 'attention_mask': masks}, labels"
   ]
  },
  {
   "cell_type": "code",
   "execution_count": 18,
   "id": "93ed4bed",
   "metadata": {},
   "outputs": [],
   "source": [
    "tf_data = tf_data.map(map_func)\n",
    "tf_data = tf_data.batch(batch_size)"
   ]
  },
  {
   "cell_type": "code",
   "execution_count": 19,
   "id": "ea0b7c32",
   "metadata": {},
   "outputs": [],
   "source": [
    "val_ratio = .1\n",
    "size = tokens.get('input_ids').shape[0]/batch_size\n",
    "tf_train = tf_data.take(int(size*val_ratio))\n",
    "tf_val = tf_data.skip(int(size*val_ratio))"
   ]
  },
  {
   "cell_type": "code",
   "execution_count": 20,
   "id": "d16dd5fb",
   "metadata": {
    "scrolled": true
   },
   "outputs": [
    {
     "data": {
      "text/plain": [
       "<TakeDataset shapes: ({input_ids: (None, 50), attention_mask: (None, 50)}, (None, 3)), types: ({input_ids: tf.int32, attention_mask: tf.int32}, tf.int32)>"
      ]
     },
     "execution_count": 20,
     "metadata": {},
     "output_type": "execute_result"
    }
   ],
   "source": [
    "tf_train"
   ]
  },
  {
   "cell_type": "markdown",
   "id": "156a9139",
   "metadata": {},
   "source": [
    "### Model development"
   ]
  },
  {
   "cell_type": "code",
   "execution_count": 21,
   "id": "87c7c688",
   "metadata": {},
   "outputs": [],
   "source": [
    "from transformers import TFAutoModel\n",
    "from tensorflow.keras.models import Model\n",
    "from tensorflow.keras.layers import Input, Dropout, Dense, GlobalMaxPool1D"
   ]
  },
  {
   "cell_type": "code",
   "execution_count": 22,
   "id": "819bc972",
   "metadata": {},
   "outputs": [],
   "source": [
    "# model configuration\n",
    "epochs = 15\n",
    "verbose = 1\n",
    "patience = 3\n",
    "lr_rate = 1e-3"
   ]
  },
  {
   "cell_type": "code",
   "execution_count": 23,
   "id": "de79845f",
   "metadata": {},
   "outputs": [
    {
     "name": "stderr",
     "output_type": "stream",
     "text": [
      "Some layers from the model checkpoint at bert-base-cased were not used when initializing TFBertModel: ['nsp___cls', 'mlm___cls']\n",
      "- This IS expected if you are initializing TFBertModel from the checkpoint of a model trained on another task or with another architecture (e.g. initializing a BertForSequenceClassification model from a BertForPreTraining model).\n",
      "- This IS NOT expected if you are initializing TFBertModel from the checkpoint of a model that you expect to be exactly identical (initializing a BertForSequenceClassification model from a BertForSequenceClassification model).\n",
      "All the layers of TFBertModel were initialized from the model checkpoint at bert-base-cased.\n",
      "If your task is similar to the task the model of the checkpoint was trained on, you can already use TFBertModel for predictions without further training.\n"
     ]
    }
   ],
   "source": [
    "bert = TFAutoModel.from_pretrained('bert-base-cased')"
   ]
  },
  {
   "cell_type": "code",
   "execution_count": 24,
   "id": "d76b0ebd",
   "metadata": {},
   "outputs": [
    {
     "name": "stdout",
     "output_type": "stream",
     "text": [
      "Model: \"tf_bert_model\"\n",
      "_________________________________________________________________\n",
      "Layer (type)                 Output Shape              Param #   \n",
      "=================================================================\n",
      "bert (TFBertMainLayer)       multiple                  108310272 \n",
      "=================================================================\n",
      "Total params: 108,310,272\n",
      "Trainable params: 108,310,272\n",
      "Non-trainable params: 0\n",
      "_________________________________________________________________\n"
     ]
    }
   ],
   "source": [
    "bert.summary()"
   ]
  },
  {
   "cell_type": "code",
   "execution_count": 25,
   "id": "0066f669",
   "metadata": {},
   "outputs": [
    {
     "name": "stdout",
     "output_type": "stream",
     "text": [
      "WARNING:tensorflow:AutoGraph could not transform <bound method TFBertMainLayer.call of <transformers.models.bert.modeling_tf_bert.TFBertMainLayer object at 0x000001A2C88B47F0>> and will run it as-is.\n",
      "Please report this to the TensorFlow team. When filing the bug, set the verbosity to 10 (on Linux, `export AUTOGRAPH_VERBOSITY=10`) and attach the full output.\n",
      "Cause: module 'gast' has no attribute 'Index'\n",
      "To silence this warning, decorate the function with @tf.autograph.experimental.do_not_convert\n",
      "WARNING: AutoGraph could not transform <bound method TFBertMainLayer.call of <transformers.models.bert.modeling_tf_bert.TFBertMainLayer object at 0x000001A2C88B47F0>> and will run it as-is.\n",
      "Please report this to the TensorFlow team. When filing the bug, set the verbosity to 10 (on Linux, `export AUTOGRAPH_VERBOSITY=10`) and attach the full output.\n",
      "Cause: module 'gast' has no attribute 'Index'\n",
      "To silence this warning, decorate the function with @tf.autograph.experimental.do_not_convert\n",
      "WARNING:tensorflow:AutoGraph could not transform <bound method TFBertEmbeddings.call of <transformers.models.bert.modeling_tf_bert.TFBertEmbeddings object at 0x000001A2C88B42E0>> and will run it as-is.\n",
      "Please report this to the TensorFlow team. When filing the bug, set the verbosity to 10 (on Linux, `export AUTOGRAPH_VERBOSITY=10`) and attach the full output.\n",
      "Cause: module 'gast' has no attribute 'Index'\n",
      "To silence this warning, decorate the function with @tf.autograph.experimental.do_not_convert\n",
      "WARNING: AutoGraph could not transform <bound method TFBertEmbeddings.call of <transformers.models.bert.modeling_tf_bert.TFBertEmbeddings object at 0x000001A2C88B42E0>> and will run it as-is.\n",
      "Please report this to the TensorFlow team. When filing the bug, set the verbosity to 10 (on Linux, `export AUTOGRAPH_VERBOSITY=10`) and attach the full output.\n",
      "Cause: module 'gast' has no attribute 'Index'\n",
      "To silence this warning, decorate the function with @tf.autograph.experimental.do_not_convert\n",
      "WARNING:tensorflow:AutoGraph could not transform <bound method TFBertEncoder.call of <transformers.models.bert.modeling_tf_bert.TFBertEncoder object at 0x000001A2C88B4F40>> and will run it as-is.\n",
      "Please report this to the TensorFlow team. When filing the bug, set the verbosity to 10 (on Linux, `export AUTOGRAPH_VERBOSITY=10`) and attach the full output.\n",
      "Cause: module 'gast' has no attribute 'Index'\n",
      "To silence this warning, decorate the function with @tf.autograph.experimental.do_not_convert\n",
      "WARNING: AutoGraph could not transform <bound method TFBertEncoder.call of <transformers.models.bert.modeling_tf_bert.TFBertEncoder object at 0x000001A2C88B4F40>> and will run it as-is.\n",
      "Please report this to the TensorFlow team. When filing the bug, set the verbosity to 10 (on Linux, `export AUTOGRAPH_VERBOSITY=10`) and attach the full output.\n",
      "Cause: module 'gast' has no attribute 'Index'\n",
      "To silence this warning, decorate the function with @tf.autograph.experimental.do_not_convert\n",
      "WARNING:tensorflow:AutoGraph could not transform <bound method TFBertLayer.call of <transformers.models.bert.modeling_tf_bert.TFBertLayer object at 0x000001A2C8844250>> and will run it as-is.\n",
      "Please report this to the TensorFlow team. When filing the bug, set the verbosity to 10 (on Linux, `export AUTOGRAPH_VERBOSITY=10`) and attach the full output.\n",
      "Cause: module 'gast' has no attribute 'Index'\n",
      "To silence this warning, decorate the function with @tf.autograph.experimental.do_not_convert\n",
      "WARNING: AutoGraph could not transform <bound method TFBertLayer.call of <transformers.models.bert.modeling_tf_bert.TFBertLayer object at 0x000001A2C8844250>> and will run it as-is.\n",
      "Please report this to the TensorFlow team. When filing the bug, set the verbosity to 10 (on Linux, `export AUTOGRAPH_VERBOSITY=10`) and attach the full output.\n",
      "Cause: module 'gast' has no attribute 'Index'\n",
      "To silence this warning, decorate the function with @tf.autograph.experimental.do_not_convert\n",
      "WARNING:tensorflow:AutoGraph could not transform <bound method TFBertAttention.call of <transformers.models.bert.modeling_tf_bert.TFBertAttention object at 0x000001A2C8844340>> and will run it as-is.\n",
      "Please report this to the TensorFlow team. When filing the bug, set the verbosity to 10 (on Linux, `export AUTOGRAPH_VERBOSITY=10`) and attach the full output.\n",
      "Cause: module 'gast' has no attribute 'Index'\n",
      "To silence this warning, decorate the function with @tf.autograph.experimental.do_not_convert\n",
      "WARNING: AutoGraph could not transform <bound method TFBertAttention.call of <transformers.models.bert.modeling_tf_bert.TFBertAttention object at 0x000001A2C8844340>> and will run it as-is.\n",
      "Please report this to the TensorFlow team. When filing the bug, set the verbosity to 10 (on Linux, `export AUTOGRAPH_VERBOSITY=10`) and attach the full output.\n",
      "Cause: module 'gast' has no attribute 'Index'\n",
      "To silence this warning, decorate the function with @tf.autograph.experimental.do_not_convert\n",
      "WARNING:tensorflow:AutoGraph could not transform <bound method TFBertSelfAttention.call of <transformers.models.bert.modeling_tf_bert.TFBertSelfAttention object at 0x000001A2C8844430>> and will run it as-is.\n",
      "Please report this to the TensorFlow team. When filing the bug, set the verbosity to 10 (on Linux, `export AUTOGRAPH_VERBOSITY=10`) and attach the full output.\n",
      "Cause: module 'gast' has no attribute 'Index'\n",
      "To silence this warning, decorate the function with @tf.autograph.experimental.do_not_convert\n",
      "WARNING: AutoGraph could not transform <bound method TFBertSelfAttention.call of <transformers.models.bert.modeling_tf_bert.TFBertSelfAttention object at 0x000001A2C8844430>> and will run it as-is.\n",
      "Please report this to the TensorFlow team. When filing the bug, set the verbosity to 10 (on Linux, `export AUTOGRAPH_VERBOSITY=10`) and attach the full output.\n",
      "Cause: module 'gast' has no attribute 'Index'\n",
      "To silence this warning, decorate the function with @tf.autograph.experimental.do_not_convert\n",
      "WARNING:tensorflow:AutoGraph could not transform <bound method TFBertPooler.call of <transformers.models.bert.modeling_tf_bert.TFBertPooler object at 0x000001A2C88B4F10>> and will run it as-is.\n",
      "Please report this to the TensorFlow team. When filing the bug, set the verbosity to 10 (on Linux, `export AUTOGRAPH_VERBOSITY=10`) and attach the full output.\n",
      "Cause: module 'gast' has no attribute 'Index'\n",
      "To silence this warning, decorate the function with @tf.autograph.experimental.do_not_convert\n",
      "WARNING: AutoGraph could not transform <bound method TFBertPooler.call of <transformers.models.bert.modeling_tf_bert.TFBertPooler object at 0x000001A2C88B4F10>> and will run it as-is.\n",
      "Please report this to the TensorFlow team. When filing the bug, set the verbosity to 10 (on Linux, `export AUTOGRAPH_VERBOSITY=10`) and attach the full output.\n",
      "Cause: module 'gast' has no attribute 'Index'\n",
      "To silence this warning, decorate the function with @tf.autograph.experimental.do_not_convert\n"
     ]
    }
   ],
   "source": [
    "input_ids = Input(shape=(maxlen, ), name='input_ids', dtype='int32')\n",
    "mask = Input(shape=(maxlen, ), name='attention_mask', dtype='int32')\n",
    "\n",
    "embeddings = bert.bert(input_ids, attention_mask=mask)[0]\n",
    "dropout = Dropout(.1)(embeddings)\n",
    "maxpool = GlobalMaxPool1D()(dropout)\n",
    "output = Dense(3, activation='softmax', name='output')(maxpool)\n",
    "\n",
    "model = Model(inputs=[input_ids, mask], outputs=output)\n",
    "\n",
    "# set bert layer non trainable\n",
    "model.layers[2].trainable = False"
   ]
  },
  {
   "cell_type": "code",
   "execution_count": 26,
   "id": "0eac9ce1",
   "metadata": {},
   "outputs": [
    {
     "name": "stdout",
     "output_type": "stream",
     "text": [
      "Model: \"model\"\n",
      "__________________________________________________________________________________________________\n",
      "Layer (type)                    Output Shape         Param #     Connected to                     \n",
      "==================================================================================================\n",
      "input_ids (InputLayer)          [(None, 50)]         0                                            \n",
      "__________________________________________________________________________________________________\n",
      "attention_mask (InputLayer)     [(None, 50)]         0                                            \n",
      "__________________________________________________________________________________________________\n",
      "bert (TFBertMainLayer)          TFBaseModelOutputWit 108310272   input_ids[0][0]                  \n",
      "                                                                 attention_mask[0][0]             \n",
      "__________________________________________________________________________________________________\n",
      "dropout_37 (Dropout)            (None, 50, 768)      0           bert[0][0]                       \n",
      "__________________________________________________________________________________________________\n",
      "global_max_pooling1d (GlobalMax (None, 768)          0           dropout_37[0][0]                 \n",
      "__________________________________________________________________________________________________\n",
      "output (Dense)                  (None, 3)            2307        global_max_pooling1d[0][0]       \n",
      "==================================================================================================\n",
      "Total params: 108,312,579\n",
      "Trainable params: 2,307\n",
      "Non-trainable params: 108,310,272\n",
      "__________________________________________________________________________________________________\n"
     ]
    }
   ],
   "source": [
    "model.summary()"
   ]
  },
  {
   "cell_type": "code",
   "execution_count": 27,
   "id": "27a93ff7",
   "metadata": {},
   "outputs": [],
   "source": [
    "# call back\n",
    "monitor_prc = tf.keras.callbacks.EarlyStopping(monitor='val_prc', \n",
    "                                               patience=patience,\n",
    "                                               mode='max',\n",
    "                                               restore_best_weights=True)\n",
    "optimizer = tf.keras.optimizers.Adam(lr=lr_rate, decay=1e-6)"
   ]
  },
  {
   "cell_type": "code",
   "execution_count": 28,
   "id": "70b37aaf",
   "metadata": {},
   "outputs": [],
   "source": [
    "# metrics\n",
    "metrics = [\n",
    "    tf.keras.metrics.TruePositives(name='tp'),\n",
    "    tf.keras.metrics.FalsePositives(name='fp'),\n",
    "    tf.keras.metrics.TrueNegatives(name='tn'),\n",
    "    tf.keras.metrics.FalseNegatives(name='fn'),\n",
    "    tf.keras.metrics.CategoricalAccuracy(name='acc'),\n",
    "    tf.keras.metrics.Precision(name='precision'),\n",
    "    tf.keras.metrics.Recall(name='recall'),\n",
    "    tf.keras.metrics.AUC(name='auc'),\n",
    "    tf.keras.metrics.AUC(name='prc', curve='PR') # precision-recall curve\n",
    "]"
   ]
  },
  {
   "cell_type": "code",
   "execution_count": 29,
   "id": "6ca02765",
   "metadata": {},
   "outputs": [],
   "source": [
    "model.compile(loss = 'categorical_crossentropy',\n",
    "              optimizer = optimizer,\n",
    "              metrics = metrics)"
   ]
  },
  {
   "cell_type": "code",
   "execution_count": 30,
   "id": "182dc3de",
   "metadata": {},
   "outputs": [
    {
     "name": "stdout",
     "output_type": "stream",
     "text": [
      "Epoch 1/15\n",
      "16/16 [==============================] - 46s 2s/step - loss: 2.1537 - tp: 55.2941 - fp: 134.2941 - tn: 294.8824 - fn: 159.2941 - acc: 0.2686 - precision: 0.2579 - recall: 0.2306 - auc: 0.4537 - prc: 0.2956 - val_loss: 1.2056 - val_tp: 266.0000 - val_fp: 757.0000 - val_tn: 6227.0000 - val_fn: 3226.0000 - val_acc: 0.2769 - val_precision: 0.2600 - val_recall: 0.0762 - val_auc: 0.4466 - val_prc: 0.2992\n",
      "Epoch 2/15\n",
      "16/16 [==============================] - 26s 2s/step - loss: 1.2370 - tp: 27.6471 - fp: 71.1765 - tn: 358.0000 - fn: 186.9412 - acc: 0.2555 - precision: 0.2597 - recall: 0.1156 - auc: 0.4555 - prc: 0.3095 - val_loss: 1.1609 - val_tp: 447.0000 - val_fp: 897.0000 - val_tn: 6087.0000 - val_fn: 3045.0000 - val_acc: 0.3293 - val_precision: 0.3326 - val_recall: 0.1280 - val_auc: 0.5207 - val_prc: 0.3395\n",
      "Epoch 3/15\n",
      "16/16 [==============================] - 27s 2s/step - loss: 1.1603 - tp: 36.4706 - fp: 59.8824 - tn: 369.2941 - fn: 178.1176 - acc: 0.3663 - precision: 0.3903 - recall: 0.1848 - auc: 0.5664 - prc: 0.3840 - val_loss: 1.1378 - val_tp: 210.0000 - val_fp: 400.0000 - val_tn: 6584.0000 - val_fn: 3282.0000 - val_acc: 0.3405 - val_precision: 0.3443 - val_recall: 0.0601 - val_auc: 0.5100 - val_prc: 0.3409\n",
      "Epoch 4/15\n",
      "16/16 [==============================] - 27s 2s/step - loss: 1.1108 - tp: 36.2941 - fp: 42.0588 - tn: 387.1176 - fn: 178.2941 - acc: 0.3781 - precision: 0.4708 - recall: 0.1723 - auc: 0.6042 - prc: 0.4366 - val_loss: 1.1143 - val_tp: 259.0000 - val_fp: 420.0000 - val_tn: 6564.0000 - val_fn: 3233.0000 - val_acc: 0.3542 - val_precision: 0.3814 - val_recall: 0.0742 - val_auc: 0.5417 - val_prc: 0.3603\n",
      "Epoch 5/15\n",
      "16/16 [==============================] - 27s 2s/step - loss: 1.0688 - tp: 35.6471 - fp: 33.1765 - tn: 396.0000 - fn: 178.9412 - acc: 0.3966 - precision: 0.5283 - recall: 0.1651 - auc: 0.6204 - prc: 0.4568 - val_loss: 1.0519 - val_tp: 332.0000 - val_fp: 294.0000 - val_tn: 6690.0000 - val_fn: 3160.0000 - val_acc: 0.4255 - val_precision: 0.5304 - val_recall: 0.0951 - val_auc: 0.6252 - val_prc: 0.4403\n",
      "Epoch 6/15\n",
      "16/16 [==============================] - 27s 2s/step - loss: 1.0221 - tp: 50.7059 - fp: 31.7647 - tn: 397.4118 - fn: 163.8824 - acc: 0.5025 - precision: 0.6152 - recall: 0.2368 - auc: 0.6921 - prc: 0.5181 - val_loss: 1.0501 - val_tp: 334.0000 - val_fp: 328.0000 - val_tn: 6656.0000 - val_fn: 3158.0000 - val_acc: 0.4264 - val_precision: 0.5045 - val_recall: 0.0956 - val_auc: 0.6268 - val_prc: 0.4380\n",
      "Epoch 7/15\n",
      "16/16 [==============================] - 27s 2s/step - loss: 1.0205 - tp: 52.9412 - fp: 36.0000 - tn: 393.1765 - fn: 161.6471 - acc: 0.5301 - precision: 0.5880 - recall: 0.2425 - auc: 0.7033 - prc: 0.5463 - val_loss: 1.0270 - val_tp: 413.0000 - val_fp: 323.0000 - val_tn: 6661.0000 - val_fn: 3079.0000 - val_acc: 0.4530 - val_precision: 0.5611 - val_recall: 0.1183 - val_auc: 0.6559 - val_prc: 0.4688\n",
      "Epoch 8/15\n",
      "16/16 [==============================] - 27s 2s/step - loss: 0.9847 - tp: 57.8235 - fp: 27.1176 - tn: 402.0588 - fn: 156.7647 - acc: 0.5051 - precision: 0.6851 - recall: 0.2629 - auc: 0.7278 - prc: 0.5816 - val_loss: 0.9935 - val_tp: 541.0000 - val_fp: 344.0000 - val_tn: 6640.0000 - val_fn: 2951.0000 - val_acc: 0.4923 - val_precision: 0.6113 - val_recall: 0.1549 - val_auc: 0.6953 - val_prc: 0.5161\n",
      "Epoch 9/15\n",
      "16/16 [==============================] - 27s 2s/step - loss: 0.9176 - tp: 68.6471 - fp: 27.0588 - tn: 402.1176 - fn: 145.9412 - acc: 0.6257 - precision: 0.7264 - recall: 0.3135 - auc: 0.7832 - prc: 0.6361 - val_loss: 0.9889 - val_tp: 598.0000 - val_fp: 370.0000 - val_tn: 6614.0000 - val_fn: 2894.0000 - val_acc: 0.4966 - val_precision: 0.6178 - val_recall: 0.1712 - val_auc: 0.7000 - val_prc: 0.5223\n",
      "Epoch 10/15\n",
      "16/16 [==============================] - 27s 2s/step - loss: 0.9262 - tp: 73.4118 - fp: 35.7647 - tn: 393.4118 - fn: 141.1765 - acc: 0.5894 - precision: 0.6668 - recall: 0.3516 - auc: 0.7711 - prc: 0.6421 - val_loss: 0.9402 - val_tp: 786.0000 - val_fp: 353.0000 - val_tn: 6631.0000 - val_fn: 2706.0000 - val_acc: 0.5418 - val_precision: 0.6901 - val_recall: 0.2251 - val_auc: 0.7494 - val_prc: 0.5882\n",
      "Epoch 11/15\n",
      "16/16 [==============================] - 27s 2s/step - loss: 0.9176 - tp: 72.2353 - fp: 40.4118 - tn: 388.7647 - fn: 142.3529 - acc: 0.5765 - precision: 0.6439 - recall: 0.3499 - auc: 0.7879 - prc: 0.6314 - val_loss: 0.9268 - val_tp: 856.0000 - val_fp: 379.0000 - val_tn: 6605.0000 - val_fn: 2636.0000 - val_acc: 0.5530 - val_precision: 0.6931 - val_recall: 0.2451 - val_auc: 0.7600 - val_prc: 0.6022\n",
      "Epoch 12/15\n",
      "16/16 [==============================] - 27s 2s/step - loss: 0.9007 - tp: 80.4118 - fp: 32.3529 - tn: 396.8235 - fn: 134.1765 - acc: 0.6062 - precision: 0.7079 - recall: 0.3839 - auc: 0.7994 - prc: 0.6717 - val_loss: 0.9480 - val_tp: 802.0000 - val_fp: 432.0000 - val_tn: 6552.0000 - val_fn: 2690.0000 - val_acc: 0.5338 - val_precision: 0.6499 - val_recall: 0.2297 - val_auc: 0.7386 - val_prc: 0.5705\n",
      "Epoch 13/15\n",
      "16/16 [==============================] - 27s 2s/step - loss: 0.9086 - tp: 81.2353 - fp: 39.3529 - tn: 389.8235 - fn: 133.3529 - acc: 0.5872 - precision: 0.6754 - recall: 0.3800 - auc: 0.7870 - prc: 0.6438 - val_loss: 0.9296 - val_tp: 878.0000 - val_fp: 432.0000 - val_tn: 6552.0000 - val_fn: 2614.0000 - val_acc: 0.5464 - val_precision: 0.6702 - val_recall: 0.2514 - val_auc: 0.7537 - val_prc: 0.5908\n",
      "Epoch 14/15\n",
      "16/16 [==============================] - 27s 2s/step - loss: 0.8848 - tp: 90.5882 - fp: 37.0000 - tn: 392.1765 - fn: 124.0000 - acc: 0.5857 - precision: 0.7215 - recall: 0.4327 - auc: 0.8053 - prc: 0.6848 - val_loss: 0.9455 - val_tp: 923.0000 - val_fp: 509.0000 - val_tn: 6475.0000 - val_fn: 2569.0000 - val_acc: 0.5392 - val_precision: 0.6446 - val_recall: 0.2643 - val_auc: 0.7390 - val_prc: 0.5678\n"
     ]
    }
   ],
   "source": [
    "history = model.fit(tf_train,\n",
    "                    epochs=epochs,\n",
    "                    verbose=verbose,\n",
    "                    validation_data= tf_val,\n",
    "                    class_weight=class_weight_,\n",
    "                    callbacks = [monitor_prc])"
   ]
  },
  {
   "cell_type": "markdown",
   "id": "7ab5d84d",
   "metadata": {},
   "source": [
    "### Visualization"
   ]
  },
  {
   "cell_type": "code",
   "execution_count": 31,
   "id": "52329eda",
   "metadata": {},
   "outputs": [],
   "source": [
    "colors = plt.rcParams['axes.prop_cycle'].by_key()['color']\n",
    "def plot_metrics(history, metrics = ['loss', 'prc', 'precision', 'recall', 'acc', ]):\n",
    "    plt.figure(figsize=(12,6))\n",
    "    for n, metric in enumerate(metrics):\n",
    "        name = metric.replace(\"_\",\" \").capitalize()\n",
    "        plt.subplot(2,3,n+1)\n",
    "        plt.plot(history.epoch, history.history[metric], color=colors[0], label='Train')\n",
    "        plt.plot(history.epoch, history.history['val_'+metric],\n",
    "                 color=colors[0], linestyle=\"--\", label='Val')\n",
    "        plt.title(metric)\n",
    "        plt.xlabel('Epoch')\n",
    "        plt.ylabel(name)\n",
    "        if metric == 'loss':\n",
    "            plt.ylim([0, plt.ylim()[1]])\n",
    "        elif metric == 'auc':\n",
    "            plt.ylim([0.8,1])\n",
    "        else:\n",
    "            plt.ylim([0,1])\n",
    "        plt.legend()\n",
    "        \n",
    "    plt.show()"
   ]
  },
  {
   "cell_type": "code",
   "execution_count": 32,
   "id": "b9e59d5a",
   "metadata": {},
   "outputs": [
    {
     "data": {
      "image/png": "[encoded data removed]",
      "text/plain": [
       "<Figure size 864x432 with 5 Axes>"
      ]
     },
     "metadata": {
      "needs_background": "light"
     },
     "output_type": "display_data"
    }
   ],
   "source": [
    "hist = pd.DataFrame(history.history)\n",
    "hist['epochs'] = history.epoch\n",
    "plot_metrics(history)"
   ]
  },
  {
   "cell_type": "code",
   "execution_count": 33,
   "id": "61cf6cac",
   "metadata": {},
   "outputs": [],
   "source": [
    "# store trained model\n",
    "filename = 'thirdSubmission.h5'\n",
    "model.save(filename)"
   ]
  },
  {
   "cell_type": "code",
   "execution_count": 34,
   "id": "0e72716b",
   "metadata": {},
   "outputs": [],
   "source": [
    "# load library\n",
    "from sklearn.metrics import confusion_matrix, classification_report\n",
    "from tensorflow.keras.utils import plot_model"
   ]
  },
  {
   "cell_type": "code",
   "execution_count": 35,
   "id": "734d712d",
   "metadata": {},
   "outputs": [],
   "source": [
    "tokens_test = tokenizer(df_test['Description'].tolist(),\n",
    "                  max_length=maxlen,\n",
    "                  truncation=True,\n",
    "                  padding='max_length',\n",
    "                  add_special_tokens=True,\n",
    "                  return_tensors='np')"
   ]
  },
  {
   "cell_type": "code",
   "execution_count": 36,
   "id": "0b0ae18d",
   "metadata": {},
   "outputs": [],
   "source": [
    "df_test['y_pred'] = np.argmax(model.predict([tokens_test.get('input_ids'), \n",
    "                                            tokens_test.get('attention_mask')]), axis=1)"
   ]
  },
  {
   "cell_type": "code",
   "execution_count": 37,
   "id": "63ce80f7",
   "metadata": {
    "scrolled": true
   },
   "outputs": [
    {
     "data": {
      "image/png": "[encoded data removed]",
      "text/plain": [
       "<IPython.core.display.Image object>"
      ]
     },
     "execution_count": 37,
     "metadata": {},
     "output_type": "execute_result"
    }
   ],
   "source": [
    "plot_model(model, show_shapes=True)"
   ]
  },
  {
   "cell_type": "code",
   "execution_count": 38,
   "id": "805be5fd",
   "metadata": {},
   "outputs": [
    {
     "data": {
      "text/plain": [
       "array([[ 41,  18,  54],\n",
       "       [ 56, 418, 127],\n",
       "       [ 63,  96,  97]], dtype=int64)"
      ]
     },
     "execution_count": 38,
     "metadata": {},
     "output_type": "execute_result"
    }
   ],
   "source": [
    "confusion_matrix(df_test['Sentiment'], df_test['y_pred'])"
   ]
  },
  {
   "cell_type": "code",
   "execution_count": 39,
   "id": "da1fa3c3",
   "metadata": {
    "scrolled": true
   },
   "outputs": [
    {
     "name": "stdout",
     "output_type": "stream",
     "text": [
      "              precision    recall  f1-score   support\n",
      "\n",
      "           0       0.26      0.36      0.30       113\n",
      "           1       0.79      0.70      0.74       601\n",
      "           2       0.35      0.38      0.36       256\n",
      "\n",
      "    accuracy                           0.57       970\n",
      "   macro avg       0.46      0.48      0.47       970\n",
      "weighted avg       0.61      0.57      0.59       970\n",
      "\n"
     ]
    }
   ],
   "source": [
    "print(classification_report(df_test['Sentiment'], df_test['y_pred']))"
   ]
  },
  {
   "cell_type": "code",
   "execution_count": 40,
   "id": "9ef87753",
   "metadata": {},
   "outputs": [],
   "source": [
    "df_test.to_csv('../submission/thirdSubmission.csv', index=False, header=True)"
   ]
  }
 ],
 "metadata": {
  "kernelspec": {
   "display_name": "Python 3 (ipykernel)",
   "language": "python",
   "name": "python3"
  },
  "language_info": {
   "codemirror_mode": {
    "name": "ipython",
    "version": 3
   },
   "file_extension": ".py",
   "mimetype": "text/x-python",
   "name": "python",
   "nbconvert_exporter": "python",
   "pygments_lexer": "ipython3",
   "version": "3.8.12"
  }
 },
 "nbformat": 4,
 "nbformat_minor": 5
}

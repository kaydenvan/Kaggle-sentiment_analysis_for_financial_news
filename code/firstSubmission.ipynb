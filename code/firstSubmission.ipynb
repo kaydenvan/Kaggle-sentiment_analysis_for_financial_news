{
 "cells": [
  {
   "cell_type": "code",
   "execution_count": 1,
   "id": "394d377c",
   "metadata": {},
   "outputs": [],
   "source": [
    "# import libraries\n",
    "import os\n",
    "import yaml\n",
    "import warnings\n",
    "import pandas as pd\n",
    "import numpy as np\n",
    "import seaborn as sns\n",
    "import matplotlib.pyplot as plt\n",
    "from tqdm.notebook import tqdm\n",
    "\n",
    "tqdm.pandas()\n",
    "cwd = os.getcwd()\n",
    "warnings.filterwarnings('ignore')"
   ]
  },
  {
   "cell_type": "code",
   "execution_count": 2,
   "id": "3789de63",
   "metadata": {},
   "outputs": [],
   "source": [
    "# load data\n",
    "data_location = '../local'\n",
    "train_file_name = 'train.csv'\n",
    "test_file_name = 'test.csv'"
   ]
  },
  {
   "cell_type": "code",
   "execution_count": 3,
   "id": "43b31cc7",
   "metadata": {},
   "outputs": [],
   "source": [
    "df_train = pd.read_csv(os.path.join(data_location, train_file_name))\n",
    "df_test = pd.read_csv(os.path.join(data_location, test_file_name))"
   ]
  },
  {
   "cell_type": "code",
   "execution_count": 4,
   "id": "9f789d71",
   "metadata": {},
   "outputs": [
    {
     "data": {
      "text/html": [
       "<div>\n",
       "<style scoped>\n",
       "    .dataframe tbody tr th:only-of-type {\n",
       "        vertical-align: middle;\n",
       "    }\n",
       "\n",
       "    .dataframe tbody tr th {\n",
       "        vertical-align: top;\n",
       "    }\n",
       "\n",
       "    .dataframe thead th {\n",
       "        text-align: right;\n",
       "    }\n",
       "</style>\n",
       "<table border=\"1\" class=\"dataframe\">\n",
       "  <thead>\n",
       "    <tr style=\"text-align: right;\">\n",
       "      <th></th>\n",
       "      <th>Sentiment</th>\n",
       "      <th>Description</th>\n",
       "    </tr>\n",
       "  </thead>\n",
       "  <tbody>\n",
       "    <tr>\n",
       "      <th>0</th>\n",
       "      <td>neutral</td>\n",
       "      <td>- The Group -� s sales during the period were ...</td>\n",
       "    </tr>\n",
       "    <tr>\n",
       "      <th>1</th>\n",
       "      <td>neutral</td>\n",
       "      <td>The medium-term operative targets of the compa...</td>\n",
       "    </tr>\n",
       "    <tr>\n",
       "      <th>2</th>\n",
       "      <td>positive</td>\n",
       "      <td>In addition , Lehdentekijat Oy will start prod...</td>\n",
       "    </tr>\n",
       "    <tr>\n",
       "      <th>3</th>\n",
       "      <td>neutral</td>\n",
       "      <td>Aspo 's Group structure and business operation...</td>\n",
       "    </tr>\n",
       "    <tr>\n",
       "      <th>4</th>\n",
       "      <td>neutral</td>\n",
       "      <td>Finnish component supplier Componenta Corporat...</td>\n",
       "    </tr>\n",
       "  </tbody>\n",
       "</table>\n",
       "</div>"
      ],
      "text/plain": [
       "  Sentiment                                        Description\n",
       "0   neutral  - The Group -� s sales during the period were ...\n",
       "1   neutral  The medium-term operative targets of the compa...\n",
       "2  positive  In addition , Lehdentekijat Oy will start prod...\n",
       "3   neutral  Aspo 's Group structure and business operation...\n",
       "4   neutral  Finnish component supplier Componenta Corporat..."
      ]
     },
     "execution_count": 4,
     "metadata": {},
     "output_type": "execute_result"
    }
   ],
   "source": [
    "df_train.head()"
   ]
  },
  {
   "cell_type": "markdown",
   "id": "20246f27",
   "metadata": {},
   "source": [
    "### Visualization"
   ]
  },
  {
   "cell_type": "code",
   "execution_count": 5,
   "id": "4ed0bfc8",
   "metadata": {},
   "outputs": [
    {
     "data": {
      "image/png": "[encoded data removed]",
      "text/plain": [
       "<Figure size 432x288 with 1 Axes>"
      ]
     },
     "metadata": {
      "needs_background": "light"
     },
     "output_type": "display_data"
    }
   ],
   "source": [
    "sns.countplot(df_train['Sentiment'])\n",
    "plt.show()"
   ]
  },
  {
   "cell_type": "code",
   "execution_count": 6,
   "id": "68ddf5f3",
   "metadata": {},
   "outputs": [
    {
     "data": {
      "image/png": "[encoded data removed]",
      "text/plain": [
       "<Figure size 432x288 with 1 Axes>"
      ]
     },
     "metadata": {},
     "output_type": "display_data"
    }
   ],
   "source": [
    "df_train.groupby(['Sentiment']).count()\\\n",
    ".reset_index(drop=True)\\\n",
    ".plot.pie(y='Description', autopct='%.2f%%', title='Pie Chart')\n",
    "plt.show()"
   ]
  },
  {
   "cell_type": "markdown",
   "id": "449287e2",
   "metadata": {},
   "source": [
    "### Preprocessing"
   ]
  },
  {
   "cell_type": "code",
   "execution_count": 7,
   "id": "805cc816",
   "metadata": {},
   "outputs": [],
   "source": [
    "import tensorflow as tf\n",
    "from tensorflow.keras.preprocessing.text import Tokenizer\n",
    "from tensorflow.keras.preprocessing.sequence import pad_sequences\n",
    "from sklearn.preprocessing import LabelEncoder\n",
    "with open('../local/configuration.yaml') as f:\n",
    "    lib_dir = yaml.load(f, yaml.BaseLoader).get('library_directory')\n",
    "os.chdir(lib_dir)\n",
    "import func_nlp as func\n",
    "os.chdir(cwd)"
   ]
  },
  {
   "cell_type": "code",
   "execution_count": 8,
   "id": "0cf0975e",
   "metadata": {},
   "outputs": [],
   "source": [
    "tf.random.set_seed(0)\n",
    "maxlen = 50"
   ]
  },
  {
   "cell_type": "code",
   "execution_count": 9,
   "id": "53bebae6",
   "metadata": {},
   "outputs": [
    {
     "data": {
      "application/vnd.jupyter.widget-view+json": {
       "model_id": "715a6a8681964fa49fd8c5bd6a64edc0",
       "version_major": 2,
       "version_minor": 0
      },
      "text/plain": [
       "  0%|          | 0/3876 [00:00<?, ?it/s]"
      ]
     },
     "metadata": {},
     "output_type": "display_data"
    },
    {
     "data": {
      "application/vnd.jupyter.widget-view+json": {
       "model_id": "46129a86c52648a1b07046b7e2f49378",
       "version_major": 2,
       "version_minor": 0
      },
      "text/plain": [
       "  0%|          | 0/970 [00:00<?, ?it/s]"
      ]
     },
     "metadata": {},
     "output_type": "display_data"
    }
   ],
   "source": [
    "df_train['Description'] = df_train['Description'].progress_apply(lambda x: func.clean_text(x, correct_word=False, special_character=True))\n",
    "df_test['Description'] = df_test['Description'].progress_apply(lambda x: func.clean_text(x, correct_word=False, special_character=True))"
   ]
  },
  {
   "cell_type": "code",
   "execution_count": 10,
   "id": "b4a9c6e1",
   "metadata": {},
   "outputs": [],
   "source": [
    "label = LabelEncoder()\n",
    "df_train['Sentiment'] = label.fit_transform(df_train['Sentiment'])\n",
    "df_test['Sentiment'] = label.fit_transform(df_test['Sentiment'])"
   ]
  },
  {
   "cell_type": "code",
   "execution_count": 11,
   "id": "507963ea",
   "metadata": {},
   "outputs": [
    {
     "name": "stdout",
     "output_type": "stream",
     "text": [
      "Number of unique word: 9871\n"
     ]
    }
   ],
   "source": [
    "tokenizer = Tokenizer(num_words = 10000, oov_token=\"<OOV>\")\n",
    "tokenizer.fit_on_texts(df_train['Description'])\n",
    "word_index = tokenizer.word_index\n",
    "x_train = tokenizer.texts_to_sequences(df_train['Description'])\n",
    "x_test = tokenizer.texts_to_sequences(df_test['Description'])\n",
    "print('Number of unique word: {}'.format(len(word_index)-1))"
   ]
  },
  {
   "cell_type": "code",
   "execution_count": 12,
   "id": "12162a34",
   "metadata": {},
   "outputs": [],
   "source": [
    "x_train = pad_sequences(x_train, maxlen=maxlen, padding='post', truncating='post')\n",
    "x_test = pad_sequences(x_test, maxlen=maxlen, padding='post', truncating='post')"
   ]
  },
  {
   "cell_type": "code",
   "execution_count": 13,
   "id": "e8b30db2",
   "metadata": {},
   "outputs": [],
   "source": [
    "y_train = pd.get_dummies(df_train['Sentiment'])"
   ]
  },
  {
   "cell_type": "markdown",
   "id": "156a9139",
   "metadata": {},
   "source": [
    "### Model development"
   ]
  },
  {
   "cell_type": "code",
   "execution_count": 14,
   "id": "87c7c688",
   "metadata": {},
   "outputs": [],
   "source": [
    "from tensorflow.keras.models import Sequential\n",
    "from tensorflow.keras.layers import Input, Embedding, Bidirectional, GRU, Flatten, Dense, BatchNormalization, Dropout"
   ]
  },
  {
   "cell_type": "code",
   "execution_count": 15,
   "id": "700d4fdb",
   "metadata": {},
   "outputs": [],
   "source": [
    "tf.random.set_seed(0)"
   ]
  },
  {
   "cell_type": "code",
   "execution_count": 16,
   "id": "c9c8026e",
   "metadata": {},
   "outputs": [],
   "source": [
    "# model detail\n",
    "model = Sequential(name = 'nlp_financial_news_analysis')\n",
    "model.add(Input(shape = (maxlen, ), name = 'input_layer'))\n",
    "model.add(Embedding(input_dim = len(word_index) + 1,\n",
    "                    output_dim = 16,\n",
    "                    input_length = maxlen,\n",
    "                    mask_zero = True))\n",
    "model.add(Bidirectional(GRU(128)))\n",
    "model.add(Flatten())\n",
    "model.add(Dropout(.2))\n",
    "model.add(Dense(64, activation='relu'))\n",
    "model.add(BatchNormalization())\n",
    "model.add(Dense(3, name='output_layer', activation='softmax'))"
   ]
  },
  {
   "cell_type": "code",
   "execution_count": 17,
   "id": "22407e18",
   "metadata": {},
   "outputs": [],
   "source": [
    "# model configuration\n",
    "epochs = 15\n",
    "batch_size = 48\n",
    "verbose = 1\n",
    "patience = 2\n",
    "lr_rate = 1e-3\n",
    "decay_steps = 100\n",
    "decay_rate = .5"
   ]
  },
  {
   "cell_type": "code",
   "execution_count": 18,
   "id": "6e4f1379",
   "metadata": {},
   "outputs": [],
   "source": [
    "# call back\n",
    "monitor_val = tf.keras.callbacks.EarlyStopping(monitor='val_loss', \n",
    "                                               patience=patience)\n",
    "lr_schedule = tf.keras.optimizers.schedules.ExponentialDecay(lr_rate,\n",
    "                                               decay_steps=decay_steps,\n",
    "                                               decay_rate=decay_rate,\n",
    "                                               staircase=False)"
   ]
  },
  {
   "cell_type": "code",
   "execution_count": 19,
   "id": "2ebc598a",
   "metadata": {},
   "outputs": [],
   "source": [
    "# get best model from the training\n",
    "checkpoint_filepath = os.path.join(os.getcwd(), 'checkpoints/checkpoint')\n",
    "model_checkpoint_callback = tf.keras.callbacks.ModelCheckpoint(\n",
    "    filepath=checkpoint_filepath,\n",
    "    save_weights_only=True,\n",
    "    monitor='val_loss',\n",
    "    mode='min',\n",
    "    save_best_only=True)"
   ]
  },
  {
   "cell_type": "code",
   "execution_count": 20,
   "id": "8c785408",
   "metadata": {},
   "outputs": [],
   "source": [
    "model.compile(loss = 'categorical_crossentropy',\n",
    "              optimizer = tf.keras.optimizers.Adam(lr_schedule),\n",
    "              metrics = ['acc'])"
   ]
  },
  {
   "cell_type": "code",
   "execution_count": 21,
   "id": "64208261",
   "metadata": {},
   "outputs": [
    {
     "name": "stdout",
     "output_type": "stream",
     "text": [
      "Epoch 1/15\n",
      "65/65 [==============================] - 5s 84ms/step - loss: 0.9704 - acc: 0.5368 - val_loss: 0.9512 - val_acc: 0.5966\n",
      "Epoch 2/15\n",
      "65/65 [==============================] - 3s 44ms/step - loss: 0.6364 - acc: 0.7455 - val_loss: 0.8973 - val_acc: 0.6108\n",
      "Epoch 3/15\n",
      "65/65 [==============================] - 3s 43ms/step - loss: 0.3560 - acc: 0.8697 - val_loss: 0.8340 - val_acc: 0.6418\n",
      "Epoch 4/15\n",
      "65/65 [==============================] - 3s 44ms/step - loss: 0.2030 - acc: 0.9381 - val_loss: 0.7753 - val_acc: 0.6765\n",
      "Epoch 5/15\n",
      "65/65 [==============================] - 3s 43ms/step - loss: 0.1287 - acc: 0.9635 - val_loss: 0.7281 - val_acc: 0.6907\n",
      "Epoch 6/15\n",
      "65/65 [==============================] - 3s 43ms/step - loss: 0.0992 - acc: 0.9726 - val_loss: 0.6921 - val_acc: 0.7088\n",
      "Epoch 7/15\n",
      "65/65 [==============================] - 3s 43ms/step - loss: 0.0810 - acc: 0.9816 - val_loss: 0.6822 - val_acc: 0.7229\n",
      "Epoch 8/15\n",
      "65/65 [==============================] - 3s 42ms/step - loss: 0.0721 - acc: 0.9848 - val_loss: 0.7051 - val_acc: 0.7204\n",
      "Epoch 9/15\n",
      "65/65 [==============================] - 3s 42ms/step - loss: 0.0702 - acc: 0.9839 - val_loss: 0.7795 - val_acc: 0.7036\n"
     ]
    }
   ],
   "source": [
    "history = model.fit(x_train, \n",
    "                    y_train,\n",
    "                    batch_size=batch_size,\n",
    "                    epochs=epochs,\n",
    "                    verbose=verbose,\n",
    "                    validation_split=.2,\n",
    "                    callbacks = [monitor_val, model_checkpoint_callback])"
   ]
  },
  {
   "cell_type": "code",
   "execution_count": 22,
   "id": "b9e59d5a",
   "metadata": {},
   "outputs": [
    {
     "data": {
      "image/png": "[encoded data removed]",
      "text/plain": [
       "<Figure size 432x288 with 1 Axes>"
      ]
     },
     "metadata": {
      "needs_background": "light"
     },
     "output_type": "display_data"
    }
   ],
   "source": [
    "hist = pd.DataFrame(history.history)\n",
    "hist['epochs'] = history.epoch\n",
    "plt.figure()\n",
    "plt.plot(hist['epochs'], hist['acc'], label='Training Acc')\n",
    "plt.plot(hist['epochs'], hist['val_acc'], label='Validation Acc')\n",
    "plt.xlabel('Epochs')\n",
    "plt.ylabel('Accuracy')\n",
    "plt.title('Model Performance')\n",
    "plt.legend()\n",
    "plt.show()"
   ]
  },
  {
   "cell_type": "code",
   "execution_count": 23,
   "id": "d64ab8a9",
   "metadata": {},
   "outputs": [
    {
     "data": {
      "image/png": "[encoded data removed]",
      "text/plain": [
       "<Figure size 432x288 with 1 Axes>"
      ]
     },
     "metadata": {
      "needs_background": "light"
     },
     "output_type": "display_data"
    }
   ],
   "source": [
    "plt.figure()\n",
    "plt.plot(hist['epochs'], hist['loss'], label='Training loss')\n",
    "plt.plot(hist['epochs'], hist['val_loss'], label='Validation loss')\n",
    "plt.xlabel('Epochs')\n",
    "plt.ylabel('Accuracy')\n",
    "plt.title('Model Loss')\n",
    "plt.legend()\n",
    "plt.show()"
   ]
  },
  {
   "cell_type": "code",
   "execution_count": 24,
   "id": "61cf6cac",
   "metadata": {},
   "outputs": [],
   "source": [
    "# store trained model\n",
    "filename = 'firstSubmission.h5'\n",
    "model.save(filename)"
   ]
  },
  {
   "cell_type": "code",
   "execution_count": 25,
   "id": "0e72716b",
   "metadata": {},
   "outputs": [],
   "source": [
    "# load library\n",
    "from sklearn.metrics import confusion_matrix, classification_report"
   ]
  },
  {
   "cell_type": "code",
   "execution_count": 26,
   "id": "0b0ae18d",
   "metadata": {},
   "outputs": [],
   "source": [
    "model.load_weights(checkpoint_filepath)\n",
    "df_test['y_pred'] = np.argmax(model.predict(x_test), axis=1)"
   ]
  },
  {
   "cell_type": "code",
   "execution_count": 27,
   "id": "805be5fd",
   "metadata": {},
   "outputs": [
    {
     "data": {
      "text/plain": [
       "array([[ 32,  52,  29],\n",
       "       [  4, 553,  44],\n",
       "       [ 10, 119, 127]], dtype=int64)"
      ]
     },
     "execution_count": 27,
     "metadata": {},
     "output_type": "execute_result"
    }
   ],
   "source": [
    "confusion_matrix(df_test['Sentiment'], df_test['y_pred'])"
   ]
  },
  {
   "cell_type": "code",
   "execution_count": 28,
   "id": "da1fa3c3",
   "metadata": {},
   "outputs": [
    {
     "name": "stdout",
     "output_type": "stream",
     "text": [
      "              precision    recall  f1-score   support\n",
      "\n",
      "           0       0.70      0.28      0.40       113\n",
      "           1       0.76      0.92      0.83       601\n",
      "           2       0.64      0.50      0.56       256\n",
      "\n",
      "    accuracy                           0.73       970\n",
      "   macro avg       0.70      0.57      0.60       970\n",
      "weighted avg       0.72      0.73      0.71       970\n",
      "\n"
     ]
    }
   ],
   "source": [
    "print(classification_report(df_test['Sentiment'], df_test['y_pred']))"
   ]
  },
  {
   "cell_type": "code",
   "execution_count": 29,
   "id": "9ef87753",
   "metadata": {},
   "outputs": [],
   "source": [
    "df_test.to_csv('../submission/firstSubmission.csv', index=False, header=True)"
   ]
  }
 ],
 "metadata": {
  "kernelspec": {
   "display_name": "Python 3 (ipykernel)",
   "language": "python",
   "name": "python3"
  },
  "language_info": {
   "codemirror_mode": {
    "name": "ipython",
    "version": 3
   },
   "file_extension": ".py",
   "mimetype": "text/x-python",
   "name": "python",
   "nbconvert_exporter": "python",
   "pygments_lexer": "ipython3",
   "version": "3.8.12"
  }
 },
 "nbformat": 4,
 "nbformat_minor": 5
}
